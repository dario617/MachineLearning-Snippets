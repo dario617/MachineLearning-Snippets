{
 "cells": [
  {
   "cell_type": "markdown",
   "metadata": {},
   "source": [
    "# Amazon sentiment analysis: Spectral Feature Alignment\n",
    "\n",
    "Data downloaded from: processed_acl.tar.gz, processed for John Blitzer, Mark Dredze, Fernando Pereira. Biographies, Bollywood, Boom-boxes and Blenders: Domain Adaptation for Sentiment Classification. Association of Computational Linguistics (ACL), 2007\n",
    "\n",
    "Method:  Spectral Feature Alignment (SFA) by [Pan et al. (2010)\n",
    "](http://wwwconference.org/proceedings/www2010/www/p751.pdf)"
   ]
  },
  {
   "cell_type": "code",
   "execution_count": 1,
   "metadata": {
    "collapsed": true
   },
   "outputs": [],
   "source": [
    "import numpy as np\n",
    "import matplotlib.pyplot as plt\n",
    "from sklearn.metrics import mutual_info_score\n",
    "from sklearn.preprocessing import Binarizer\n",
    "from sklearn.model_selection import train_test_split\n",
    "from sklearn.linear_model import LogisticRegression\n",
    "from read_funcs import organise_data, vectorise_data, select_high_freq_data\n",
    "%matplotlib inline"
   ]
  },
  {
   "cell_type": "code",
   "execution_count": 2,
   "metadata": {},
   "outputs": [
    {
     "name": "stdout",
     "output_type": "stream",
     "text": [
      "dvd 1000 -1000\n",
      "kitchen 1000 -1000\n"
     ]
    }
   ],
   "source": [
    "src = 'dvd'\n",
    "tgt = 'kitchen'\n",
    "XB, Y_src, XD, Y_tgt = organise_data(src, tgt)"
   ]
  },
  {
   "cell_type": "code",
   "execution_count": 3,
   "metadata": {
    "collapsed": true
   },
   "outputs": [],
   "source": [
    "# Vectorise the raw data\n",
    "X_src, X_tgt, features = vectorise_data(XB, XD)\n",
    "# Reduce the no. of features\n",
    "N = 10000\n",
    "X_src, X_tgt, features = select_high_freq_data(X_src, X_tgt, features, N)"
   ]
  },
  {
   "cell_type": "code",
   "execution_count": 4,
   "metadata": {
    "collapsed": true
   },
   "outputs": [],
   "source": [
    "# Base case examined in Sent_InstanceWeighting; accuracy 0.776"
   ]
  },
  {
   "cell_type": "markdown",
   "metadata": {},
   "source": [
    "## SFA find domain independent features using mutual information"
   ]
  },
  {
   "cell_type": "code",
   "execution_count": 5,
   "metadata": {
    "collapsed": true
   },
   "outputs": [],
   "source": [
    "def compute_mutual_info(X, Y):\n",
    "    N = X.shape[1]\n",
    "    mutual_info = []\n",
    "    for i in range(N):\n",
    "        mutual_info.append(mutual_info_score(X[:,i], Y))\n",
    "    return mutual_info"
   ]
  },
  {
   "cell_type": "code",
   "execution_count": 6,
   "metadata": {},
   "outputs": [
    {
     "name": "stdout",
     "output_type": "stream",
     "text": [
      "(4000, 10000) (4000,)\n"
     ]
    }
   ],
   "source": [
    "X = np.r_[X_src, X_tgt]\n",
    "Y = np.r_[np.ones(X_src.shape[0]), np.zeros(X_tgt.shape[0])]\n",
    "print(X.shape, Y.shape)"
   ]
  },
  {
   "cell_type": "code",
   "execution_count": 7,
   "metadata": {},
   "outputs": [],
   "source": [
    "mutual_info_src_tgt = compute_mutual_info(X, Y)"
   ]
  },
  {
   "cell_type": "code",
   "execution_count": 23,
   "metadata": {
    "collapsed": true
   },
   "outputs": [],
   "source": [
    "features = np.asarray(features)\n",
    "sort_idx = np.argsort(mutual_info_src_tgt)\n",
    "l = 500\n",
    "DI_features = features[sort_idx[:l]]\n",
    "DS_features = features[sort_idx[l:]]"
   ]
  },
  {
   "cell_type": "code",
   "execution_count": 24,
   "metadata": {},
   "outputs": [
    {
     "name": "stdout",
     "output_type": "stream",
     "text": [
      "['i_prefer' 'off_in' 'and_nothing' 'that_when' 'the_place' 'bottom_line'\n",
      " 'outside_of' 'one_at' 'the_hard' 'the_inner' 'the_look' 'do_anything'\n",
      " 'one_this' 'done_the' 'than_just' 'one_would' 'it_once' 'out_it'\n",
      " 'one_time' 'of_having']\n"
     ]
    }
   ],
   "source": [
    "print(DI_features[:20])"
   ]
  },
  {
   "cell_type": "markdown",
   "metadata": {},
   "source": [
    "## SFA: find low-dimensional mapping"
   ]
  },
  {
   "cell_type": "code",
   "execution_count": 10,
   "metadata": {},
   "outputs": [
    {
     "name": "stdout",
     "output_type": "stream",
     "text": [
      "(4000, 500) (4000, 9500)\n"
     ]
    }
   ],
   "source": [
    "Phi_DI = X[:, sort_idx[:l]]\n",
    "Phi_DS = X[:, sort_idx[l:]]\n",
    "print(Phi_DI.shape, Phi_DS.shape)"
   ]
  },
  {
   "cell_type": "code",
   "execution_count": 11,
   "metadata": {},
   "outputs": [
    {
     "data": {
      "text/plain": [
       "[<matplotlib.lines.Line2D at 0x105eccba8>]"
      ]
     },
     "execution_count": 11,
     "metadata": {},
     "output_type": "execute_result"
    },
    {
     "data": {
      "image/png": "[encoded data removed]",
      "text/plain": [
       "<matplotlib.figure.Figure at 0x1a0aee8a90>"
      ]
     },
     "metadata": {},
     "output_type": "display_data"
    }
   ],
   "source": [
    "# Binarise the data\n",
    "binarizer = Binarizer().fit(Phi_DI)\n",
    "Phi_DI = binarizer.transform(Phi_DI)\n",
    "Phi_DS = binarizer.transform(Phi_DS)\n",
    "plt.plot(Phi_DI[:,10])"
   ]
  },
  {
   "cell_type": "code",
   "execution_count": 12,
   "metadata": {},
   "outputs": [
    {
     "data": {
      "text/plain": [
       "(9500, 500)"
      ]
     },
     "execution_count": 12,
     "metadata": {},
     "output_type": "execute_result"
    }
   ],
   "source": [
    "M = np.dot(Phi_DS.T, Phi_DI)\n",
    "M.shape"
   ]
  },
  {
   "cell_type": "code",
   "execution_count": 13,
   "metadata": {},
   "outputs": [
    {
     "data": {
      "text/plain": [
       "(10000, 10000)"
      ]
     },
     "execution_count": 13,
     "metadata": {},
     "output_type": "execute_result"
    }
   ],
   "source": [
    "m = X.shape[1]\n",
    "A = np.c_[np.zeros((m-l, m-l)), M]\n",
    "A = np.r_[A, np.c_[M.T, np.zeros((l,l))]]\n",
    "A.shape"
   ]
  },
  {
   "cell_type": "code",
   "execution_count": 14,
   "metadata": {
    "collapsed": true
   },
   "outputs": [],
   "source": [
    "# Diagonal matrix D\n",
    "sum_col = np.sum(A, axis = 1)\n",
    "D_inv_sqrt = np.diag(1/np.sqrt(sum_col))"
   ]
  },
  {
   "cell_type": "code",
   "execution_count": 15,
   "metadata": {},
   "outputs": [
    {
     "data": {
      "text/plain": [
       "(9500, 100)"
      ]
     },
     "execution_count": 15,
     "metadata": {},
     "output_type": "execute_result"
    }
   ],
   "source": [
    "k = 100 # clusters\n",
    "L = np.dot(D_inv_sqrt,A).dot(D_inv_sqrt)\n",
    "W, V = np.linalg.eig(L) # really slow"
   ]
  },
  {
   "cell_type": "code",
   "execution_count": 16,
   "metadata": {},
   "outputs": [
    {
     "name": "stderr",
     "output_type": "stream",
     "text": [
      "/Users/meichenlu/anaconda3/lib/python3.6/site-packages/numpy/core/numeric.py:531: ComplexWarning: Casting complex values to real discards the imaginary part\n",
      "  return array(a, dtype, copy=False, order=order)\n"
     ]
    },
    {
     "data": {
      "text/plain": [
       "[<matplotlib.lines.Line2D at 0x1016cd390>]"
      ]
     },
     "execution_count": 16,
     "metadata": {},
     "output_type": "execute_result"
    },
    {
     "data": {
      "image/png": "[encoded data removed]",
      "text/plain": [
       "<matplotlib.figure.Figure at 0x105ecc470>"
      ]
     },
     "metadata": {},
     "output_type": "display_data"
    }
   ],
   "source": [
    "idx = W.argsort()[::-1]\n",
    "U = V[:m-l, idx[:k]]\n",
    "U = np.abs(U)\n",
    "U.shape\n",
    "plt.plot(W[idx[:100]])"
   ]
  },
  {
   "cell_type": "code",
   "execution_count": 28,
   "metadata": {},
   "outputs": [
    {
     "name": "stdout",
     "output_type": "stream",
     "text": [
      "['jupitor' 'jupitor_hollow' 'sadie' 'mixed_up' 'tomlin' 'lily_tomlin'\n",
      " 'and_family' 'dozen' 'twins' 'midler' 'bette_midler' 'patty' 'hollow'\n",
      " 'enjoy_a' 'laughter' 'chips' 'scraping' 'my_god' 'in_big' 'good_old']\n",
      "['set_the' 'email' 'thing' 'found_that' 'the_recipe' 'for_several' 'pie'\n",
      " 'i_rented' 'however_they' 'give_you' 'uses_the' \"she_doesn't\" 'the_weight'\n",
      " 'the_beautiful' 'picked' 'the_battle' 'do_not' 'half_of' 'adaptation_of'\n",
      " 'inches']\n"
     ]
    }
   ],
   "source": [
    "u1 = U[:,1]\n",
    "u1_sorted = sorted(range(len(u1)), key=lambda i: u1[i])\n",
    "u1_pos_subspace = [DS_features[i] for i in u1_sorted[-1:-21:-1]]\n",
    "u1_neg_subspace = [DS_features[i] for i in u1_sorted[:20]]\n",
    "print(np.asarray(u1_pos_subspace))\n",
    "print(np.asarray(u1_neg_subspace))"
   ]
  },
  {
   "cell_type": "code",
   "execution_count": 18,
   "metadata": {
    "collapsed": true
   },
   "outputs": [],
   "source": [
    "# Augmented feature space\n",
    "X_DS = X[:, sort_idx[l:]] # Non-binarised version\n",
    "mapping_matrix = np.dot(X_DS,U)\n",
    "gamma = 0.6\n",
    "X_aug = np.c_[X, gamma*mapping_matrix]"
   ]
  },
  {
   "cell_type": "code",
   "execution_count": 19,
   "metadata": {
    "collapsed": true
   },
   "outputs": [],
   "source": [
    "X_src_aug = X_aug[:X_src.shape[0], :]\n",
    "X_tgt_aug = X_aug[X_src.shape[0]:, :]"
   ]
  },
  {
   "cell_type": "code",
   "execution_count": 20,
   "metadata": {
    "collapsed": true
   },
   "outputs": [],
   "source": [
    "def tune_reg_param_unsupervised(C_test, X_src_SCL, Y_src, X_tgt, Y_tgt, dev_size):\n",
    "    X_train, X_dev, Y_train, Y_dev = train_test_split(X_src_SCL, Y_src, test_size = dev_size, random_state = 3)\n",
    "    acc_train = []\n",
    "    acc_dev = []\n",
    "    for C in C_test:\n",
    "        model_SCL = LogisticRegression(C = C) \n",
    "        model_SCL.fit(X_train, Y_train)\n",
    "        acc_train.append(model_SCL.score(X_train, Y_train))\n",
    "        acc_dev.append(model_SCL.score(X_dev, Y_dev))\n",
    "    C_opt = C_test[np.argmax(acc_dev)]\n",
    "    model_SCL = LogisticRegression(C = C_opt) \n",
    "    model_SCL.fit(X_train, Y_train)\n",
    "    print('optimal alpha', C_opt, 'max acc', max(acc_dev),'test acc', model_SCL.score(X_tgt, Y_tgt))\n",
    "    plt.plot(C_test, acc_train)\n",
    "    plt.plot(C_test, acc_dev)"
   ]
  },
  {
   "cell_type": "code",
   "execution_count": 21,
   "metadata": {},
   "outputs": [
    {
     "name": "stdout",
     "output_type": "stream",
     "text": [
      "optimal alpha 0.0621052631579 max acc 0.83 test acc 0.7665\n"
     ]
    },
    {
     "data": {
      "image/png": "[encoded data removed]",
      "text/plain": [
       "<matplotlib.figure.Figure at 0x102305f28>"
      ]
     },
     "metadata": {},
     "output_type": "display_data"
    }
   ],
   "source": [
    "C_test = np.linspace(0.01,1,20)\n",
    "tune_reg_param_unsupervised(C_test, X_src_aug, Y_src, X_tgt_aug, Y_tgt, 0.2)"
   ]
  },
  {
   "cell_type": "code",
   "execution_count": 22,
   "metadata": {},
   "outputs": [
    {
     "name": "stdout",
     "output_type": "stream",
     "text": [
      "gamma: 0.001, train dvd acc: 0.993, test kitchen acc: 0.772\n",
      "gamma: 0.01, train dvd acc: 0.993, test kitchen acc: 0.772\n",
      "gamma: 0.1, train dvd acc: 0.993, test kitchen acc: 0.772\n",
      "gamma: 1.0, train dvd acc: 0.993, test kitchen acc: 0.774\n",
      "gamma: 10.0, train dvd acc: 0.990, test kitchen acc: 0.777\n",
      "gamma: 100.0, train dvd acc: 0.971, test kitchen acc: 0.761\n"
     ]
    }
   ],
   "source": [
    "gamma_list = np.logspace(-3,2,6)\n",
    "for gamma in gamma_list:\n",
    "    X_aug = np.c_[X, gamma*mapping_matrix]\n",
    "    X_src_aug = X_aug[:X_src.shape[0], :]\n",
    "    X_tgt_aug = X_aug[X_src.shape[0]:, :]\n",
    "    model = LogisticRegression(C = 0.1) \n",
    "    model.fit(X_src_aug, Y_src)\n",
    "    print('gamma: {}, train {:s} acc: {:.3f}, test {:s} acc: {:.3f}'\\\n",
    "          .format(gamma, src, model.score(X_src_aug, Y_src), tgt, model.score(X_tgt_aug,Y_tgt)))"
   ]
  },
  {
   "cell_type": "code",
   "execution_count": null,
   "metadata": {
    "collapsed": true
   },
   "outputs": [],
   "source": []
  }
 ],
 "metadata": {
  "kernelspec": {
   "display_name": "Python 3",
   "language": "python",
   "name": "python3"
  },
  "language_info": {
   "codemirror_mode": {
    "name": "ipython",
    "version": 3
   },
   "file_extension": ".py",
   "mimetype": "text/x-python",
   "name": "python",
   "nbconvert_exporter": "python",
   "pygments_lexer": "ipython3",
   "version": "3.6.3"
  }
 },
 "nbformat": 4,
 "nbformat_minor": 2
}
