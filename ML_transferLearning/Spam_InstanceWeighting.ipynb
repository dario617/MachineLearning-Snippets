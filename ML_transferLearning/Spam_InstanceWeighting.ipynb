{
 "cells": [
  {
   "cell_type": "markdown",
   "metadata": {},
   "source": [
    "# Spam filter analysis: instance weighting\n",
    "Based on the PhD thesis of [Jing Jiang (2008)](https://www.ideals.illinois.edu/bitstream/handle/2142/10870/UIUCDCS-R-2008-2974.pdf?sequence=2)\n",
    "\n",
    "Data from the [ECML KPDD Challenge 2006](http://ecmlpkdd2006.org/challenge.html#download)"
   ]
  },
  {
   "cell_type": "code",
   "execution_count": 1,
   "metadata": {
    "collapsed": true
   },
   "outputs": [],
   "source": [
    "import re\n",
    "import numpy as np\n",
    "import matplotlib.pyplot as plt\n",
    "%matplotlib inline\n",
    "from sklearn.model_selection import train_test_split\n",
    "from sklearn.linear_model import LogisticRegression"
   ]
  },
  {
   "cell_type": "code",
   "execution_count": 2,
   "metadata": {},
   "outputs": [],
   "source": [
    "def read_data(file_name):\n",
    "    with open(file_name, 'r') as content_file:\n",
    "        content = content_file.read()\n",
    "    content = content.split()\n",
    "    cnt = 0\n",
    "    split = []\n",
    "    buffer = []\n",
    "    label = []\n",
    "    feature_max = 0\n",
    "    for item in content:\n",
    "        if item == '1' or item == '-1':\n",
    "            split.append(cnt)\n",
    "            if item == '1':\n",
    "                label.append(1)\n",
    "            else:\n",
    "                label.append(0)\n",
    "            if cnt > 1 and buffer[-1][0] > feature_max:\n",
    "                feature_max = buffer[-1][0]\n",
    "        else:\n",
    "            buffer.append([int(i) for i in item.split(':')]) \n",
    "            cnt += 1\n",
    "    # Convert the data into a matrix\n",
    "    X = np.empty((len(split), feature_max+1))\n",
    "    split.append(len(buffer))\n",
    "    for i in range(len(split)-1):\n",
    "        for j in range(split[i], split[i+1]):\n",
    "            X[i, buffer[j][0]] = buffer[j][1]\n",
    "    Y = label\n",
    "    return X, Y"
   ]
  },
  {
   "cell_type": "code",
   "execution_count": 3,
   "metadata": {},
   "outputs": [],
   "source": [
    "src = 'source'\n",
    "tgt = 'user 1'\n",
    "X_src, Y_src = read_data('data_task_a/task_a_labeled_train.tf')\n",
    "Ns = np.size(X_src,0)"
   ]
  },
  {
   "cell_type": "code",
   "execution_count": 4,
   "metadata": {},
   "outputs": [],
   "source": [
    "X_tgt, Y_tgt = read_data('data_task_a/task_a_u00_eval_lab.tf')\n",
    "# Note that X_test is not the same size as X_train\n",
    "tmp = np.zeros((np.size(X_tgt,0), np.size(X_src,1)))\n",
    "tmp[:, :np.size(X_tgt,1)] = X_tgt\n",
    "X_tgt = tmp"
   ]
  },
  {
   "cell_type": "code",
   "execution_count": 5,
   "metadata": {},
   "outputs": [],
   "source": [
    "# Reduce the number of features\n",
    "feature_count = np.sum(X_src,0)\n",
    "sort_idx = np.argsort(feature_count)\n",
    "X_src = X_src[:, sort_idx[-10000:]]\n",
    "X_tgt =  X_tgt[:, sort_idx[-10000:]]"
   ]
  },
  {
   "cell_type": "code",
   "execution_count": 6,
   "metadata": {},
   "outputs": [
    {
     "name": "stdout",
     "output_type": "stream",
     "text": [
      "train source acc: 1.000, test user 1 acc: 0.621\n"
     ]
    }
   ],
   "source": [
    "# Base case\n",
    "model = LogisticRegression(C = 1) # Regularisation parameter C = 1\n",
    "model.fit(X_src, Y_src)\n",
    "print('train {:s} acc: {:.3f}, test {:s} acc: {:.3f}'\\\n",
    "      .format(src, model.score(X_src, Y_src), tgt, model.score(X_tgt,Y_tgt)))"
   ]
  },
  {
   "cell_type": "code",
   "execution_count": 7,
   "metadata": {
    "collapsed": true
   },
   "outputs": [],
   "source": [
    "# Test the sensitivity to regularisation parameter\n",
    "C_test = np.linspace(0.1,2,20)\n",
    "acc_train = []\n",
    "acc_dev = []\n",
    "for C in C_test:\n",
    "    model_BL = LogisticRegression(C = C) \n",
    "    model_BL.fit(X_src, Y_src)\n",
    "    acc_train.append(model_BL.score(X_src, Y_src))\n",
    "    acc_dev.append(model_BL.score(X_tgt, Y_tgt))"
   ]
  },
  {
   "cell_type": "code",
   "execution_count": 8,
   "metadata": {},
   "outputs": [
    {
     "name": "stdout",
     "output_type": "stream",
     "text": [
      "optimal alpha 0.3 train acc 0.9995 max acc 0.628\n"
     ]
    },
    {
     "data": {
      "text/plain": [
       "[<matplotlib.lines.Line2D at 0x10f3571d0>]"
      ]
     },
     "execution_count": 8,
     "metadata": {},
     "output_type": "execute_result"
    },
    {
     "data": {
      "image/png": "[encoded data removed]",
      "text/plain": [
       "<matplotlib.figure.Figure at 0x10a6f5668>"
      ]
     },
     "metadata": {},
     "output_type": "display_data"
    }
   ],
   "source": [
    "C_opt = C_test[np.argmax(acc_dev)]\n",
    "model_BL = LogisticRegression(C = C_opt) \n",
    "model_BL.fit(X_src, Y_src)\n",
    "print('optimal alpha', C_opt, 'train acc', model_BL.score(X_src, Y_src), 'max acc', max(acc_dev))\n",
    "plt.plot(C_test, acc_train)\n",
    "plt.plot(C_test, acc_dev)"
   ]
  },
  {
   "cell_type": "code",
   "execution_count": 9,
   "metadata": {},
   "outputs": [
    {
     "name": "stdout",
     "output_type": "stream",
     "text": [
      "Baseline 1 train acc 1.0 max acc 0.628\n"
     ]
    }
   ],
   "source": [
    "C_opt = 1\n",
    "model_BL = LogisticRegression(C = C_opt) \n",
    "model_BL.fit(X_src, Y_src)\n",
    "print('Baseline', C_opt, 'train acc', model.score(X_src, Y_src), 'max acc', max(acc_dev))"
   ]
  },
  {
   "cell_type": "markdown",
   "metadata": {},
   "source": [
    "# Instance weighting: $\\alpha$\n",
    "\n",
    "Weight each example using $\\frac{P_t(x^s_i)}{P_s(x^s_i)}$"
   ]
  },
  {
   "cell_type": "code",
   "execution_count": 10,
   "metadata": {
    "collapsed": true
   },
   "outputs": [],
   "source": [
    "def mean_error_fixed_size_alpha(X_s, X_t, Y_s, Y_t):\n",
    "    Ns = np.size(X_s,0)\n",
    "    err_alpha = []\n",
    "    X_scr_tgt = np.r_[X_s, X_t]\n",
    "    # Build the classifier for source VS target\n",
    "    Y_scr_tgt = np.r_[np.zeros(np.size(X_s,0)),np.ones(np.size(X_t,0))]\n",
    "    model_src_tgt = LogisticRegression(C = 1)\n",
    "    model_src_tgt.fit(X_scr_tgt, Y_scr_tgt)\n",
    "    # This model is P(target|x), from which we can estimate alpha\n",
    "    p_src_tgt = model_src_tgt.predict_proba(X_s)\n",
    "    alpha_initial = p_src_tgt[:,1]/p_src_tgt[:,0]\n",
    "    plt.hist(alpha_initial, bins = 20)\n",
    "    C = np.sum(alpha_initial)\n",
    "    alpha = alpha_initial/C*Ns\n",
    "    # Weight each sample with alpha\n",
    "    model = LogisticRegression(C = 1)\n",
    "    model.fit(X_s,Y_s,alpha)\n",
    "    print('baseline src only:', model.score(X_t, Y_t))"
   ]
  },
  {
   "cell_type": "code",
   "execution_count": 11,
   "metadata": {},
   "outputs": [
    {
     "name": "stdout",
     "output_type": "stream",
     "text": [
      "test source to user 1 with alpha weighting\n",
      "baseline src only: 0.6072\n"
     ]
    },
    {
     "data": {
      "image/png": "[encoded data removed]",
      "text/plain": [
       "<matplotlib.figure.Figure at 0x1a125c7c50>"
      ]
     },
     "metadata": {},
     "output_type": "display_data"
    }
   ],
   "source": [
    "print('test {} to {} with alpha weighting'.format( src, tgt))\n",
    "mean_error_fixed_size_alpha(X_src, X_tgt, Y_src, Y_tgt)"
   ]
  },
  {
   "cell_type": "markdown",
   "metadata": {},
   "source": [
    "## Semi-supervised learning\n",
    "Semi-supervised learning with a small number of labeled target data.\n",
    "\n",
    "Models\n",
    "- Baseline with source only\n",
    "- $\\beta$ weighting using a model trained on the labeled target data: $\\beta = \\frac{P_t(y^s_i|x^s_i)}{P_s(y^s_i|x^s_i)}$\n",
    "- baseline with source + labeled target data\n",
    "- source + labeled target data + beta weighting\n",
    "- source + up-weighted labeled target data"
   ]
  },
  {
   "cell_type": "code",
   "execution_count": 12,
   "metadata": {
    "collapsed": true
   },
   "outputs": [],
   "source": [
    "def compute_beta(model_BL, model_tgt_labeled, X_s, Y_s):\n",
    "    selection = [[True, False],[False,True]]\n",
    "    idx = [selection[i] for i in Y_s]\n",
    "    idx = []\n",
    "    for i in Y_s:\n",
    "        if i == 1:\n",
    "            idx.append(selection[1])\n",
    "        else:\n",
    "            idx.append(selection[0])\n",
    "    prob_tgt = model_tgt_labeled.predict_proba(X_s)\n",
    "    prob_tgt = prob_tgt[idx]\n",
    "    prob_BL = model_BL.predict_proba(X_s)\n",
    "    prob_BL = prob_BL[idx]\n",
    "    beta_initial = prob_tgt/prob_BL\n",
    "    return beta_initial"
   ]
  },
  {
   "cell_type": "code",
   "execution_count": 13,
   "metadata": {
    "collapsed": true
   },
   "outputs": [],
   "source": [
    "def mean_error_fixed_size(X_s, X_t, Y_s, Y_t, test_size, Nrepeat):\n",
    "    Ns = np.size(X_s,0)\n",
    "    err_BL = []\n",
    "    err_BL2 = []\n",
    "    err_BAL = []\n",
    "    err_beta = []\n",
    "    err_beta2 = []\n",
    "    n_t_l = test_size\n",
    "    for i in range(Nrepeat):\n",
    "        # get labeled target data\n",
    "        X_tu, X_tl, Y_tu, Y_tl = train_test_split(X_t, Y_t, test_size = test_size, random_state = i)\n",
    "        X_train_full = np.r_[X_s, X_tl]\n",
    "        Y_train_full = np.r_[Y_s, Y_tl]\n",
    "        \n",
    "        # Baseline for source\n",
    "        model_BL = LogisticRegression(C = 1)\n",
    "        model_BL.fit(X_s,Y_s)\n",
    "        err_BL.append(model_BL.score(X_tu, Y_tu))\n",
    "        \n",
    "        # beta-weighting\n",
    "        model_tgt_labeled = LogisticRegression(C = 1)\n",
    "        model_tgt_labeled.fit(X_tl,Y_tl)\n",
    "        beta = compute_beta(model_BL, model_tgt_labeled, X_s, Y_s)\n",
    "        beta = beta/np.sum(beta)*Ns\n",
    "        model2_beta = LogisticRegression(C = 1)\n",
    "        model2_beta.fit(X_s,Y_s,beta)\n",
    "        err_beta.append(model2_beta.score(X_tu, Y_tu))\n",
    "\n",
    "        # Baseline with target data\n",
    "        model2_BL = LogisticRegression(C = 1)\n",
    "        model2_BL.fit(X_train_full,Y_train_full)\n",
    "        err_BL2.append(model2_BL.score(X_tu, Y_tu))\n",
    "        \n",
    "        # beta with labeled target data\n",
    "        beta = np.r_[beta, np.ones(n_t_l)]\n",
    "        model2_beta = LogisticRegression(C = 1)\n",
    "        model2_beta.fit(X_train_full,Y_train_full,beta)\n",
    "        err_beta2.append(model2_beta.score(X_tu, Y_tu))\n",
    "\n",
    "        # Balanced (upweight target domain)\n",
    "        weight_BAL = np.r_[np.ones(Ns), Ns/n_t_l*np.ones(n_t_l)]\n",
    "        model2_BAL = LogisticRegression(C = 1)\n",
    "        model2_BAL.fit(X_train_full,Y_train_full, weight_BAL)\n",
    "        err_BAL.append(model2_BAL.score(X_tu, Y_tu))\n",
    "\n",
    "#         print('iter: {:d}, BL train acc: {:.3f}, test acc: {:.3f}'\\\n",
    "#               .format(i+1, model2_BL.score(X_train_full,Y_train_full), err_BL[-1]))\n",
    "#         print('BAL train acc: {:.3f}, test acc: {:.3f}'\\\n",
    "#               .format(model2_BAL.score(X_train_full,Y_train_full), err_BAL[-1]))\n",
    "#         print('beta train acc: {:.3f}, test acc: {:.3f}'\\\n",
    "#               .format(model2_beta.score(X_train_full,Y_train_full), err_beta[-1]))\n",
    "    np.set_printoptions(precision=3)\n",
    "    print('baseline src only:', np.asarray(err_BL))\n",
    "    print('beta weighting', np.asarray(err_beta))\n",
    "    print('baseline src + lt', np.asarray(err_BL2))\n",
    "    print('src + lt + beta', np.asarray(err_beta2))\n",
    "    print('upweighted tgt domain', np.asarray(err_BAL))\n",
    "    return [np.mean(err_BL), np.mean(err_beta), np.mean(err_BL2), \\\n",
    "            np.mean(err_beta2), np.mean(err_BAL)]"
   ]
  },
  {
   "cell_type": "code",
   "execution_count": 14,
   "metadata": {},
   "outputs": [
    {
     "name": "stdout",
     "output_type": "stream",
     "text": [
      "test source to user 1 with labeled target size 80\n"
     ]
    },
    {
     "name": "stderr",
     "output_type": "stream",
     "text": [
      "/Users/meichenlu/anaconda3/lib/python3.6/site-packages/sklearn/linear_model/base.py:340: RuntimeWarning: overflow encountered in exp\n",
      "  np.exp(prob, prob)\n"
     ]
    },
    {
     "name": "stdout",
     "output_type": "stream",
     "text": [
      "baseline src only: [ 0.623  0.62   0.62   0.617  0.619  0.621  0.621  0.622]\n",
      "beta weighting [ 0.724  0.671  0.711  0.681  0.688  0.736  0.689  0.735]\n",
      "baseline src + lt [ 0.844  0.84   0.838  0.823  0.809  0.858  0.83   0.85 ]\n",
      "src + lt + beta [ 0.877  0.856  0.869  0.871  0.852  0.882  0.869  0.887]\n",
      "upweighted tgt domain [ 0.881  0.903  0.881  0.874  0.869  0.898  0.876  0.899]\n"
     ]
    }
   ],
   "source": [
    "test_size = 80\n",
    "Nrepeat = 8\n",
    "full_results = []\n",
    "print('test {} to {} with labeled target size {}'.format( src, tgt, test_size))\n",
    "full_results.append(mean_error_fixed_size(X_src, X_tgt, Y_src, Y_tgt, test_size, Nrepeat))"
   ]
  },
  {
   "cell_type": "code",
   "execution_count": 15,
   "metadata": {},
   "outputs": [
    {
     "name": "stdout",
     "output_type": "stream",
     "text": [
      "test source to user 1 with labeled target size 120\n"
     ]
    },
    {
     "name": "stderr",
     "output_type": "stream",
     "text": [
      "/Users/meichenlu/anaconda3/lib/python3.6/site-packages/sklearn/linear_model/base.py:340: RuntimeWarning: overflow encountered in exp\n",
      "  np.exp(prob, prob)\n"
     ]
    },
    {
     "name": "stdout",
     "output_type": "stream",
     "text": [
      "baseline src only: [ 0.621  0.619  0.62   0.617  0.619  0.62   0.619  0.621]\n",
      "beta weighting [ 0.718  0.672  0.7    0.698  0.696  0.736  0.698  0.687]\n",
      "baseline src + lt [ 0.862  0.854  0.858  0.87   0.86   0.886  0.851  0.88 ]\n",
      "src + lt + beta [ 0.892  0.874  0.881  0.911  0.896  0.901  0.881  0.895]\n",
      "upweighted tgt domain [ 0.897  0.906  0.9    0.902  0.893  0.916  0.885  0.916]\n"
     ]
    }
   ],
   "source": [
    "test_size = 120\n",
    "print('test {} to {} with labeled target size {}'.format( src, tgt, test_size))\n",
    "full_results.append(mean_error_fixed_size(X_src, X_tgt, Y_src, Y_tgt, test_size, Nrepeat))"
   ]
  },
  {
   "cell_type": "code",
   "execution_count": 16,
   "metadata": {},
   "outputs": [
    {
     "name": "stdout",
     "output_type": "stream",
     "text": [
      "test source to user 1 with labeled target size 200\n"
     ]
    },
    {
     "name": "stderr",
     "output_type": "stream",
     "text": [
      "/Users/meichenlu/anaconda3/lib/python3.6/site-packages/sklearn/linear_model/base.py:340: RuntimeWarning: overflow encountered in exp\n",
      "  np.exp(prob, prob)\n"
     ]
    },
    {
     "name": "stdout",
     "output_type": "stream",
     "text": [
      "baseline src only: [ 0.617  0.617  0.62   0.621  0.62   0.621  0.617  0.621]\n",
      "beta weighting [ 0.705  0.68   0.672  0.732  0.692  0.724  0.683  0.693]\n",
      "baseline src + lt [ 0.885  0.89   0.898  0.917  0.9    0.911  0.887  0.917]\n",
      "src + lt + beta [ 0.919  0.914  0.922  0.938  0.929  0.93   0.916  0.937]\n",
      "upweighted tgt domain [ 0.915  0.928  0.93   0.933  0.922  0.93   0.925  0.937]\n"
     ]
    }
   ],
   "source": [
    "test_size = 200\n",
    "print('test {} to {} with labeled target size {}'.format( src, tgt, test_size))\n",
    "full_results.append(mean_error_fixed_size(X_src, X_tgt, Y_src, Y_tgt, test_size, Nrepeat))"
   ]
  },
  {
   "cell_type": "code",
   "execution_count": 17,
   "metadata": {},
   "outputs": [
    {
     "data": {
      "text/plain": [
       "(3, 5)"
      ]
     },
     "execution_count": 17,
     "metadata": {},
     "output_type": "execute_result"
    }
   ],
   "source": [
    "results_summary = np.asarray(full_results)\n",
    "results_summary.shape"
   ]
  },
  {
   "cell_type": "code",
   "execution_count": 20,
   "metadata": {},
   "outputs": [
    {
     "data": {
      "image/png": "[encoded data removed]",
      "text/plain": [
       "<matplotlib.figure.Figure at 0x1a126c6630>"
      ]
     },
     "metadata": {},
     "output_type": "display_data"
    }
   ],
   "source": [
    "index = np.array([1, 2, 3])\n",
    "bar_width = 0.15\n",
    "color_list = ['blue','red', 'green', 'yellow','cyan']\n",
    "label_list = ['BL', 'Beta', 'BL+LT', 'LT+Beta', 'Upweighted LT']\n",
    "for i in range(5):\n",
    "    plt.bar(index + i*bar_width, results_summary[:,i], bar_width, \\\n",
    "            color = color_list[i], label = label_list[i])\n",
    "plt.xticks(index + 2*bar_width, ('No. labeled tgt = 80','120', '200' ))\n",
    "plt.ylim(0.6,0.95)\n",
    "plt.axhline(y = 0.628, ls = '--')\n",
    "plt.legend(bbox_to_anchor=(1.4, 1.0))\n",
    "plt.savefig(\"AccSpamSup_{}_to_{}.png\".format(src,tgt), bbox_inches=\"tight\")"
   ]
  },
  {
   "cell_type": "code",
   "execution_count": 22,
   "metadata": {},
   "outputs": [
    {
     "data": {
      "text/plain": [
       "(2500, 10000)"
      ]
     },
     "execution_count": 22,
     "metadata": {},
     "output_type": "execute_result"
    }
   ],
   "source": [
    "X_tgt.shape"
   ]
  },
  {
   "cell_type": "code",
   "execution_count": null,
   "metadata": {
    "collapsed": true
   },
   "outputs": [],
   "source": []
  }
 ],
 "metadata": {
  "kernelspec": {
   "display_name": "Python 3",
   "language": "python",
   "name": "python3"
  },
  "language_info": {
   "codemirror_mode": {
    "name": "ipython",
    "version": 3
   },
   "file_extension": ".py",
   "mimetype": "text/x-python",
   "name": "python",
   "nbconvert_exporter": "python",
   "pygments_lexer": "ipython3",
   "version": "3.6.3"
  }
 },
 "nbformat": 4,
 "nbformat_minor": 2
}
