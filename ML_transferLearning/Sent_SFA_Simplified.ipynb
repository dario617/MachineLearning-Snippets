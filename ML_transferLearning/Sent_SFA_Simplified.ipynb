{
 "cells": [
  {
   "cell_type": "markdown",
   "metadata": {},
   "source": [
    "# Amazon sentiment analysis: Spectral Feature Alignment Simplified\n",
    "\n",
    "Data downloaded from: processed_acl.tar.gz, processed for John Blitzer, Mark Dredze, Fernando Pereira. Biographies, Bollywood, Boom-boxes and Blenders: Domain Adaptation for Sentiment Classification. Association of Computational Linguistics (ACL), 2007"
   ]
  },
  {
   "cell_type": "code",
   "execution_count": 69,
   "metadata": {
    "collapsed": true
   },
   "outputs": [],
   "source": [
    "import numpy as np\n",
    "import matplotlib.pyplot as plt\n",
    "from sklearn.preprocessing import Binarizer\n",
    "from sklearn.metrics import mutual_info_score\n",
    "from sklearn.model_selection import train_test_split\n",
    "from sklearn.linear_model import LogisticRegression\n",
    "from read_funcs import organise_data, vectorise_data, select_high_freq_data\n",
    "%matplotlib inline"
   ]
  },
  {
   "cell_type": "code",
   "execution_count": 2,
   "metadata": {},
   "outputs": [
    {
     "name": "stdout",
     "output_type": "stream",
     "text": [
      "dvd 1000 -1000\n",
      "kitchen 1000 -1000\n"
     ]
    }
   ],
   "source": [
    "src = 'dvd'\n",
    "tgt = 'kitchen'\n",
    "XB, Y_src, XD, Y_tgt = organise_data(src, tgt)"
   ]
  },
  {
   "cell_type": "code",
   "execution_count": 28,
   "metadata": {
    "collapsed": true
   },
   "outputs": [],
   "source": [
    "# Vectorise the raw data\n",
    "X_src, X_tgt, features = vectorise_data(XB, XD)\n",
    "# Reduce the no. of features\n",
    "N = 10000\n",
    "X_src, X_tgt, features = select_high_freq_data(X_src, X_tgt, features, N)"
   ]
  },
  {
   "cell_type": "code",
   "execution_count": 4,
   "metadata": {
    "collapsed": true
   },
   "outputs": [],
   "source": [
    "# Base case examined in Sent_InstanceWeighting"
   ]
  },
  {
   "cell_type": "markdown",
   "metadata": {},
   "source": [
    "## SFA find domain independent features using mutual information"
   ]
  },
  {
   "cell_type": "code",
   "execution_count": 5,
   "metadata": {
    "collapsed": true
   },
   "outputs": [],
   "source": [
    "def compute_mutual_info(X, Y):\n",
    "    N = X.shape[1]\n",
    "    mutual_info = []\n",
    "    for i in range(N):\n",
    "        mutual_info.append(mutual_info_score(X[:,i], Y))\n",
    "    return mutual_info"
   ]
  },
  {
   "cell_type": "code",
   "execution_count": 25,
   "metadata": {},
   "outputs": [
    {
     "name": "stdout",
     "output_type": "stream",
     "text": [
      "(4000, 10000) (4000,)\n"
     ]
    }
   ],
   "source": [
    "X = np.r_[X_src, X_tgt]\n",
    "Y = np.r_[np.ones(X_src.shape[0]), np.zeros(X_tgt.shape[0])]\n",
    "print(X.shape, Y.shape)"
   ]
  },
  {
   "cell_type": "code",
   "execution_count": 26,
   "metadata": {
    "collapsed": true
   },
   "outputs": [],
   "source": [
    "# Features descriminant for which domain it comes from.\n",
    "mutual_info_src_tgt = compute_mutual_info(X, Y)"
   ]
  },
  {
   "cell_type": "code",
   "execution_count": 29,
   "metadata": {
    "collapsed": true
   },
   "outputs": [],
   "source": [
    "# Features descriminant for the source domain label\n",
    "mutual_info_src = compute_mutual_info(X_src, Y_src)"
   ]
  },
  {
   "cell_type": "markdown",
   "metadata": {
    "collapsed": true
   },
   "source": [
    "To select features that are non-descriminant for which domain and are descriminant for the source domain. We subtract the two mutual information socre."
   ]
  },
  {
   "cell_type": "code",
   "execution_count": 30,
   "metadata": {},
   "outputs": [
    {
     "name": "stdout",
     "output_type": "stream",
     "text": [
      "['waste' 'great' 'worst' 'the_worst' 'bad' 'waste_of' 'not' 'excellent'\n",
      " 'horrible' 'best' 'awful' 'love' 'a_great' 'the_best' 'well' 'your_money'\n",
      " 'wonderful' 'no' 'not_worth' 'terrible']\n"
     ]
    }
   ],
   "source": [
    "mutual_info_src_tgt = [mutual_info_src_tgt[i] - mutual_info_src[i] \\\n",
    "                       for i in range(len(mutual_info_src))]\n",
    "features = np.asarray(features)\n",
    "sort_idx = np.argsort(mutual_info_src_tgt)\n",
    "print(features[sort_idx[:20]])"
   ]
  },
  {
   "cell_type": "code",
   "execution_count": 62,
   "metadata": {},
   "outputs": [],
   "source": [
    "src_waste_idx = (X_src[:, sort_idx[0]] > 0)*(X_src[:, sort_idx[1]] == 0)\n",
    "X_src_waste = X_src[src_waste_idx, :]\n",
    "Y_src_waste = Y_src[src_waste_idx]\n",
    "tgt_waste_idx = (X_tgt[:, sort_idx[0]] > 0)*(X_tgt[:, sort_idx[1]] == 0)\n",
    "X_tgt_waste = X_tgt[tgt_waste_idx, :]\n",
    "Y_tgt_waste = Y_tgt[tgt_waste_idx]\n",
    "src_great_idx = (X_src[:, sort_idx[1]] > 0)*(X_src[:, sort_idx[0]] == 0)\n",
    "X_src_great = X_src[src_great_idx, :]\n",
    "Y_src_great = Y_src[src_great_idx]\n",
    "tgt_great_idx = (X_tgt[:, sort_idx[1]] > 0)*(X_tgt[:, sort_idx[0]] == 0)\n",
    "X_tgt_great = X_tgt[tgt_great_idx, :]\n",
    "Y_tgt_great = Y_tgt[tgt_great_idx]"
   ]
  },
  {
   "cell_type": "code",
   "execution_count": 38,
   "metadata": {
    "collapsed": true
   },
   "outputs": [],
   "source": [
    "Y_src = np.asarray(Y_src)\n",
    "Y_src_sub = Y_src[X_src[:, sort_idx[0]] > 0]\n",
    "Y_src_sub = np.r_[Y_src_sub,Y_src[(X_src[:, sort_idx[1]] > 0)*(X_src[:, sort_idx[0]] == 0)]]\n",
    "Y_tgt = np.asarray(Y_tgt)\n",
    "Y_tgt_sub = Y_tgt[X_tgt[:, sort_idx[0]] > 0]\n",
    "Y_tgt_sub = np.r_[Y_tgt_sub,Y_tgt[(X_tgt[:, sort_idx[1]] > 0)*(X_tgt[:, sort_idx[0]] == 0)]]"
   ]
  },
  {
   "cell_type": "code",
   "execution_count": 39,
   "metadata": {},
   "outputs": [
    {
     "ename": "IndexError",
     "evalue": "index 9682 is out of bounds for axis 1 with size 100",
     "output_type": "error",
     "traceback": [
      "\u001b[0;31m---------------------------------------------------------------------------\u001b[0m",
      "\u001b[0;31mIndexError\u001b[0m                                Traceback (most recent call last)",
      "\u001b[0;32m<ipython-input-39-afd6a89c2cfc>\u001b[0m in \u001b[0;36m<module>\u001b[0;34m()\u001b[0m\n\u001b[1;32m      1\u001b[0m \u001b[0mX\u001b[0m \u001b[0;34m=\u001b[0m \u001b[0mnp\u001b[0m\u001b[0;34m.\u001b[0m\u001b[0mr_\u001b[0m\u001b[0;34m[\u001b[0m\u001b[0mX_src_waste\u001b[0m\u001b[0;34m,\u001b[0m \u001b[0mX_tgt_waste\u001b[0m\u001b[0;34m,\u001b[0m \u001b[0mX_src_great\u001b[0m\u001b[0;34m,\u001b[0m \u001b[0mX_tgt_great\u001b[0m\u001b[0;34m]\u001b[0m\u001b[0;34m\u001b[0m\u001b[0m\n\u001b[1;32m      2\u001b[0m \u001b[0mX\u001b[0m \u001b[0;34m=\u001b[0m \u001b[0mX\u001b[0m\u001b[0;34m[\u001b[0m\u001b[0;34m:\u001b[0m\u001b[0;34m,\u001b[0m \u001b[0msort_idx\u001b[0m\u001b[0;34m]\u001b[0m\u001b[0;34m\u001b[0m\u001b[0m\n\u001b[0;32m----> 3\u001b[0;31m \u001b[0mfeatures\u001b[0m \u001b[0;34m=\u001b[0m \u001b[0mfeatures\u001b[0m\u001b[0;34m[\u001b[0m\u001b[0msort_idx\u001b[0m\u001b[0;34m]\u001b[0m\u001b[0;34m\u001b[0m\u001b[0m\n\u001b[0m",
      "\u001b[0;31mIndexError\u001b[0m: index 9682 is out of bounds for axis 1 with size 100"
     ]
    }
   ],
   "source": [
    "X = np.r_[X_src_waste, X_tgt_waste, X_src_great, X_tgt_great]\n",
    "X = X[:, sort_idx]\n",
    "features = features[sort_idx]"
   ]
  },
  {
   "cell_type": "code",
   "execution_count": 40,
   "metadata": {},
   "outputs": [
    {
     "name": "stdout",
     "output_type": "stream",
     "text": [
      "(1206, 2) (1206, 98)\n"
     ]
    }
   ],
   "source": [
    "l = 2\n",
    "m = 100\n",
    "X = X[:,:m]\n",
    "features = features[:m]\n",
    "Phi_DI = X[:, :l]\n",
    "Phi_DS = X[:, l:]\n",
    "print(Phi_DI.shape, Phi_DS.shape)"
   ]
  },
  {
   "cell_type": "code",
   "execution_count": 41,
   "metadata": {},
   "outputs": [
    {
     "data": {
      "text/plain": [
       "[<matplotlib.lines.Line2D at 0x1a3ec90e80>]"
      ]
     },
     "execution_count": 41,
     "metadata": {},
     "output_type": "execute_result"
    },
    {
     "data": {
      "image/png": "[encoded data removed]",
      "text/plain": [
       "<matplotlib.figure.Figure at 0x1a0ad574a8>"
      ]
     },
     "metadata": {},
     "output_type": "display_data"
    }
   ],
   "source": [
    "# Binarise the data\n",
    "binarizer = Binarizer().fit(Phi_DI)\n",
    "Phi_DI = binarizer.transform(Phi_DI)\n",
    "Phi_DS = binarizer.transform(Phi_DS)\n",
    "plt.plot(Phi_DI[:,0])\n",
    "plt.plot(Phi_DI[:,1])"
   ]
  },
  {
   "cell_type": "code",
   "execution_count": 43,
   "metadata": {},
   "outputs": [
    {
     "name": "stdout",
     "output_type": "stream",
     "text": [
      "80 72 513 541\n"
     ]
    }
   ],
   "source": [
    "print(X_src_waste.shape[0],X_tgt_waste.shape[0],X_src_great.shape[0],X_tgt_great.shape[0])"
   ]
  },
  {
   "cell_type": "code",
   "execution_count": 44,
   "metadata": {},
   "outputs": [
    {
     "name": "stdout",
     "output_type": "stream",
     "text": [
      "nonzero entries 0\n"
     ]
    }
   ],
   "source": [
    "M = np.dot(Phi_DS.T, Phi_DI)\n",
    "non_zero_entries = np.sum(M, axis = 1) > 0\n",
    "print('nonzero entries', np.sum(np.sum(M, axis = 1) == 0))\n",
    "Phi_DS = Phi_DS[:,non_zero_entries]\n",
    "X = X[:, np.r_[np.array([True, True]), non_zero_entries]]\n",
    "features = features[np.r_[np.array([True, True]), non_zero_entries]]"
   ]
  },
  {
   "cell_type": "markdown",
   "metadata": {},
   "source": [
    "## SFA: find low-dimensional mapping"
   ]
  },
  {
   "cell_type": "code",
   "execution_count": 46,
   "metadata": {},
   "outputs": [
    {
     "name": "stdout",
     "output_type": "stream",
     "text": [
      "(98, 2) (100, 100)\n"
     ]
    }
   ],
   "source": [
    "M = np.dot(Phi_DS.T, Phi_DI)\n",
    "m = X.shape[1]\n",
    "A = np.c_[np.zeros((m-l, m-l)), M]\n",
    "A = np.r_[A, np.c_[M.T, np.zeros((l,l))]]\n",
    "print(M.shape, A.shape)"
   ]
  },
  {
   "cell_type": "code",
   "execution_count": 48,
   "metadata": {},
   "outputs": [],
   "source": [
    "# Build Diagonal matrix D\n",
    "sum_col = np.sum(A, axis = 1)\n",
    "D_inv_sqrt = np.diag(1/np.sqrt(sum_col))"
   ]
  },
  {
   "cell_type": "code",
   "execution_count": 49,
   "metadata": {},
   "outputs": [
    {
     "data": {
      "text/plain": [
       "[<matplotlib.lines.Line2D at 0x105f71438>]"
      ]
     },
     "execution_count": 49,
     "metadata": {},
     "output_type": "execute_result"
    },
    {
     "data": {
      "image/png": "[encoded data removed]",
      "text/plain": [
       "<matplotlib.figure.Figure at 0x1a0c1bc7f0>"
      ]
     },
     "metadata": {},
     "output_type": "display_data"
    }
   ],
   "source": [
    "k = 100 # clusters\n",
    "L = np.dot(D_inv_sqrt,A).dot(D_inv_sqrt)\n",
    "W, V = np.linalg.eig(L) # really slow\n",
    "idx = abs(W).argsort()[::-1]\n",
    "W = W[idx]\n",
    "V = V[:, idx]\n",
    "plt.plot(abs(W))"
   ]
  },
  {
   "cell_type": "code",
   "execution_count": 50,
   "metadata": {},
   "outputs": [
    {
     "data": {
      "text/plain": [
       "(98, 100)"
      ]
     },
     "execution_count": 50,
     "metadata": {},
     "output_type": "execute_result"
    }
   ],
   "source": [
    "U = V[:m-l, :k]\n",
    "U = np.real(U)\n",
    "U.shape"
   ]
  },
  {
   "cell_type": "code",
   "execution_count": 53,
   "metadata": {},
   "outputs": [
    {
     "name": "stdout",
     "output_type": "stream",
     "text": [
      "['waste_of' 'waste_your' \"don't_waste\" 'money' 'a_waste' 'your_money'\n",
      " 'your_time' 'a_great' 'money_on' 'best' 'dumb' 'my_money' 'well'\n",
      " 'the_best' 'horrible' 'love' 'perfect' \"don't\" 'also' 'i']\n",
      "['paid' 'not_recommend' 'disappointment' 'disappointing' 'i_was'\n",
      " 'looks_like' 'actual' 'lame' 'poorly' 'worse' 'ridiculous' 'poor' 'crap'\n",
      " 'worst_movies' 'let_me' 'fails' 'at_all' 'atrocious' 'not_funny' 'ruined']\n"
     ]
    }
   ],
   "source": [
    "u1 = U[:,2]\n",
    "u1_sorted = sorted(range(len(u1)), key=lambda i: np.abs(u1[i]))\n",
    "u1_pos_subspace = [features[i+2] for i in u1_sorted[-1:-21:-1]]\n",
    "u1_neg_subspace = [features[i+2] for i in u1_sorted[:20]]\n",
    "print(np.asarray(u1_pos_subspace))\n",
    "print(np.asarray(u1_neg_subspace))"
   ]
  },
  {
   "cell_type": "code",
   "execution_count": 63,
   "metadata": {},
   "outputs": [],
   "source": [
    "k = 4\n",
    "U = V[:m-l, :k]"
   ]
  },
  {
   "cell_type": "code",
   "execution_count": 64,
   "metadata": {},
   "outputs": [],
   "source": [
    "gamma = 0.6\n",
    "X_src_sub = np.r_[X_src_waste[:, sort_idx[:m]], X_src_great[:, sort_idx[:m]]]\n",
    "X_tgt_sub = np.r_[X_tgt_waste[:, sort_idx[:m]], X_tgt_great[:, sort_idx[:m]]]\n",
    "Y_src_sub = np.r_[Y_src_waste, Y_src_great]\n",
    "Y_tgt_sub = np.r_[Y_tgt_waste, Y_tgt_great]\n",
    "X_src_aug = np.c_[X_src_sub, gamma*np.dot(X_src_sub[:,l:], U)]\n",
    "X_tgt_aug = np.c_[X_tgt_sub, gamma*np.dot(X_tgt_sub[:,l:], U)]"
   ]
  },
  {
   "cell_type": "code",
   "execution_count": 65,
   "metadata": {},
   "outputs": [
    {
     "data": {
      "text/plain": [
       "(593, 104)"
      ]
     },
     "execution_count": 65,
     "metadata": {},
     "output_type": "execute_result"
    }
   ],
   "source": [
    "X_src_aug.shape"
   ]
  },
  {
   "cell_type": "code",
   "execution_count": 66,
   "metadata": {
    "collapsed": true
   },
   "outputs": [],
   "source": [
    "def tune_reg_param_unsupervised(C_test, X_src_SCL, Y_src, X_tgt, Y_tgt, dev_size):\n",
    "    X_train, X_dev, Y_train, Y_dev = train_test_split(X_src_SCL, Y_src, test_size = dev_size, random_state = 3)\n",
    "    acc_train = []\n",
    "    acc_dev = []\n",
    "    for C in C_test:\n",
    "        model_SCL = LogisticRegression(C = C) \n",
    "        model_SCL.fit(X_train, Y_train)\n",
    "        acc_train.append(model_SCL.score(X_train, Y_train))\n",
    "        acc_dev.append(model_SCL.score(X_dev, Y_dev))\n",
    "    C_opt = C_test[np.argmax(acc_dev)]\n",
    "    model_SCL = LogisticRegression(C = C_opt) \n",
    "    model_SCL.fit(X_train, Y_train)\n",
    "    print('optimal alpha', C_opt, 'max acc', max(acc_dev),'test acc', model_SCL.score(X_tgt, Y_tgt))\n",
    "    plt.plot(C_test, acc_train)\n",
    "    plt.plot(C_test, acc_dev)"
   ]
  },
  {
   "cell_type": "code",
   "execution_count": 71,
   "metadata": {},
   "outputs": [
    {
     "name": "stdout",
     "output_type": "stream",
     "text": [
      "optimal alpha 0.270526315789 max acc 0.806722689076 test acc 0.814029363785\n"
     ]
    },
    {
     "data": {
      "image/png": "[encoded data removed]",
      "text/plain": [
       "<matplotlib.figure.Figure at 0x1a0b464710>"
      ]
     },
     "metadata": {},
     "output_type": "display_data"
    }
   ],
   "source": [
    "C_test = np.linspace(0.01,1,20)\n",
    "tune_reg_param_unsupervised(C_test, X_src_sub, Y_src_sub, X_tgt_sub, Y_tgt_sub, 0.2)"
   ]
  },
  {
   "cell_type": "code",
   "execution_count": 72,
   "metadata": {},
   "outputs": [
    {
     "name": "stdout",
     "output_type": "stream",
     "text": [
      "optimal alpha 0.270526315789 max acc 0.806722689076 test acc 0.815660685155\n"
     ]
    },
    {
     "name": "stderr",
     "output_type": "stream",
     "text": [
      "/Users/meichenlu/anaconda3/lib/python3.6/site-packages/sklearn/utils/validation.py:433: ComplexWarning: Casting complex values to real discards the imaginary part\n",
      "  array = np.array(array, dtype=dtype, order=order, copy=copy)\n"
     ]
    },
    {
     "data": {
      "image/png": "[encoded data removed]",
      "text/plain": [
       "<matplotlib.figure.Figure at 0x1a0b4ef208>"
      ]
     },
     "metadata": {},
     "output_type": "display_data"
    }
   ],
   "source": [
    "tune_reg_param_unsupervised(C_test, X_src_aug, Y_src_sub, X_tgt_aug, Y_tgt_sub, 0.2)"
   ]
  },
  {
   "cell_type": "code",
   "execution_count": 76,
   "metadata": {},
   "outputs": [
    {
     "name": "stdout",
     "output_type": "stream",
     "text": [
      "gamma: 100.0, train dvd acc: 0.855, test kitchen acc: 0.824\n"
     ]
    }
   ],
   "source": [
    "model = LogisticRegression(C = 0.3) \n",
    "model.fit(X_src_sub, Y_src_sub)\n",
    "print('gamma: {}, train {:s} acc: {:.3f}, test {:s} acc: {:.3f}'\\\n",
    "      .format(gamma, src, model.score(X_src_sub, Y_src_sub), \\\n",
    "              tgt, model.score(X_tgt_sub, Y_tgt_sub)))"
   ]
  },
  {
   "cell_type": "code",
   "execution_count": 77,
   "metadata": {},
   "outputs": [
    {
     "name": "stdout",
     "output_type": "stream",
     "text": [
      "gamma: 0.1, train dvd acc: 0.853, test kitchen acc: 0.824\n",
      "gamma: 1.0, train dvd acc: 0.853, test kitchen acc: 0.829\n",
      "gamma: 10.0, train dvd acc: 0.857, test kitchen acc: 0.832\n",
      "gamma: 100.0, train dvd acc: 0.858, test kitchen acc: 0.834\n",
      "gamma: 1000.0, train dvd acc: 0.858, test kitchen acc: 0.830\n",
      "gamma: 10000.0, train dvd acc: 0.804, test kitchen acc: 0.809\n"
     ]
    },
    {
     "name": "stderr",
     "output_type": "stream",
     "text": [
      "/Users/meichenlu/anaconda3/lib/python3.6/site-packages/sklearn/utils/validation.py:433: ComplexWarning: Casting complex values to real discards the imaginary part\n",
      "  array = np.array(array, dtype=dtype, order=order, copy=copy)\n"
     ]
    }
   ],
   "source": [
    "gamma_list = np.logspace(-1,4,6)\n",
    "for gamma in gamma_list:\n",
    "    X_src_aug = np.c_[X_src_sub, gamma*np.dot(X_src_sub[:,l:], U)]\n",
    "    X_tgt_aug = np.c_[X_tgt_sub, gamma*np.dot(X_tgt_sub[:,l:], U)]\n",
    "    model = LogisticRegression(C = 0.3) \n",
    "    model.fit(X_src_aug, Y_src_sub)\n",
    "    print('gamma: {}, train {:s} acc: {:.3f}, test {:s} acc: {:.3f}'\\\n",
    "          .format(gamma, src, model.score(X_src_aug, Y_src_sub), \\\n",
    "                  tgt, model.score(X_tgt_aug, Y_tgt_sub)))"
   ]
  }
 ],
 "metadata": {
  "kernelspec": {
   "display_name": "Python 3",
   "language": "python",
   "name": "python3"
  },
  "language_info": {
   "codemirror_mode": {
    "name": "ipython",
    "version": 3
   },
   "file_extension": ".py",
   "mimetype": "text/x-python",
   "name": "python",
   "nbconvert_exporter": "python",
   "pygments_lexer": "ipython3",
   "version": "3.6.3"
  }
 },
 "nbformat": 4,
 "nbformat_minor": 2
}
