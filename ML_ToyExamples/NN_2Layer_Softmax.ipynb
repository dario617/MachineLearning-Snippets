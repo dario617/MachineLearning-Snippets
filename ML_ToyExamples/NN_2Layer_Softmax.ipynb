{
 "cells": [
  {
   "cell_type": "markdown",
   "metadata": {},
   "source": [
    "## 2 Layer Neural network with softmax in the final layer\n",
    "Meichen Lu (meichenlu91@gmail.com) 13rd April 2018\n",
    "\n",
    "In this notebook, I will implement a simple 2-layer neural network with softmax. Then it will be tested on the MNIST data set."
   ]
  },
  {
   "cell_type": "code",
   "execution_count": 1,
   "metadata": {
    "collapsed": true
   },
   "outputs": [],
   "source": [
    "import numpy as np\n",
    "import matplotlib.pyplot as plt\n",
    "%matplotlib inline"
   ]
  },
  {
   "cell_type": "code",
   "execution_count": 2,
   "metadata": {
    "collapsed": true
   },
   "outputs": [],
   "source": [
    "from sklearn.datasets import fetch_mldata\n",
    "mnist = fetch_mldata('MNIST original')\n",
    "\n",
    "X = mnist.data.astype(float)\n",
    "y = mnist.target.astype(float) \n",
    "\n",
    "m = X.shape[1]"
   ]
  },
  {
   "cell_type": "code",
   "execution_count": 3,
   "metadata": {
    "collapsed": true
   },
   "outputs": [],
   "source": [
    "# filter out only 0 and 1 and split data\n",
    "ind = (y < 2).nonzero()\n",
    "ind = ind[0]\n",
    "X = X[ind, :]\n",
    "n = np.shape(X)[0]\n",
    "y_vec = np.zeros((n,2))\n",
    "for i in range(n):\n",
    "    y_vec[i,int(y[ind[i]])] = 1\n",
    "\n",
    "num_train = int(n * 0.8)\n",
    "X_train = X[0:num_train, :].T\n",
    "X_test = X[num_train:-1,:].T\n",
    "y_train = y_vec[0:num_train].T\n",
    "y_test = y_vec[num_train:-1].T\n",
    "\n",
    "X_train = X_train/256\n",
    "X_test = X_test/256\n"
   ]
  },
  {
   "cell_type": "code",
   "execution_count": 4,
   "metadata": {},
   "outputs": [
    {
     "data": {
      "text/plain": [
       "[<matplotlib.lines.Line2D at 0x11e1fe3c8>]"
      ]
     },
     "execution_count": 4,
     "metadata": {},
     "output_type": "execute_result"
    },
    {
     "data": {
      "image/png": "[encoded data removed]",
      "text/plain": [
       "<matplotlib.figure.Figure at 0x1152b8b00>"
      ]
     },
     "metadata": {},
     "output_type": "display_data"
    }
   ],
   "source": [
    "plt.plot(y_train[0,:])\n",
    "plt.plot(y_train[1,:])"
   ]
  },
  {
   "cell_type": "code",
   "execution_count": 5,
   "metadata": {
    "collapsed": true
   },
   "outputs": [],
   "source": [
    "def sigmoid(x):\n",
    "    return 1 / (1 + np.exp(-x))"
   ]
  },
  {
   "cell_type": "code",
   "execution_count": 6,
   "metadata": {
    "collapsed": true
   },
   "outputs": [],
   "source": [
    "def fprop(x, y, params):\n",
    "    W1, b1, W2, b2 = [params[key] for key in ('W1', 'b1', 'W2', 'b2')]\n",
    "    z1 = np.dot(W1, x) + b1\n",
    "    a1 = sigmoid(z1)\n",
    "    z2 = np.dot(W2, a1) + b2\n",
    "    a2 = sigmoid(z2)\n",
    "    loss = 0.5*np.linalg.norm(a2-y, axis = 0)**2\n",
    "    ret = {'x': x, 'y': y, 'z1': z1, 'a1': a1, 'z2': z2, 'a2': a2, 'loss': loss}\n",
    "    for key in params:\n",
    "        ret[key] = params[key]\n",
    "    return ret"
   ]
  },
  {
   "cell_type": "code",
   "execution_count": 7,
   "metadata": {
    "collapsed": true
   },
   "outputs": [],
   "source": [
    "def bprop_vec(fprop_cache):\n",
    "  # Follows procedure given in notes\n",
    "    n = len(y_train.T)\n",
    "    x, y, z1, a1, z2, a2, loss = [fprop_cache[key] for key in ('x', 'y', 'z1', 'a1', 'z2', 'a2', 'loss')]\n",
    "    delta2 = np.multiply(a2 - y, a2*(1-a2))\n",
    "    dW2 = np.dot(delta2, a1.T)/n\n",
    "    db2 = np.mean(delta2, 1)\n",
    "    db2 = db2.reshape([-1,1])\n",
    "    # Why W2? Shouldn't it be W1??!!\n",
    "    delta1 = np.dot(fprop_cache['W2'].T, delta2) * a1 * (1-a1)\n",
    "    dW1 = np.dot(delta1, x.T)/n\n",
    "    db1 = np.mean(delta1,1)\n",
    "    db1 = db1.reshape([-1,1])\n",
    "    return {'b1': db1, 'W1': dW1, 'b2': db2, 'W2': dW2}"
   ]
  },
  {
   "cell_type": "code",
   "execution_count": 8,
   "metadata": {
    "collapsed": true
   },
   "outputs": [],
   "source": [
    "def initialise_param(m, n, n1, n2):\n",
    "    '''\n",
    "    m features, n samples, first layer with n1 cells, second layer with n2 cells\n",
    "    '''\n",
    "    W1 = np.random.randn(n1, m)\n",
    "    b1 = np.random.randn(n1, 1)\n",
    "    W2 = np.random.randn(n2, n1)\n",
    "    b2 = np.random.randn(n2, 1)\n",
    "    params = {'W1': W1, 'b1': b1, 'W2': W2, 'b2': b2}\n",
    "    return params"
   ]
  },
  {
   "cell_type": "code",
   "execution_count": 9,
   "metadata": {
    "collapsed": true
   },
   "outputs": [],
   "source": [
    "def train_net_vec(X_train, Y_train, params, max_iter = 200, alpha = 0.5, verbose = False):\n",
    "    '''\n",
    "    Vectorised neural network training\n",
    "    X_train: size m * n\n",
    "    Y_train: size 1 * n\n",
    "    param: initialsed network\n",
    "    '''\n",
    "    n2 = len(y_train)\n",
    "    cost_hist = np.zeros((max_iter,1))\n",
    "    n_corr_hist = np.zeros((max_iter,1))\n",
    "    for i in range(max_iter):\n",
    "        fprop_cache = fprop(X_train, Y_train, params)\n",
    "        z2 = fprop_cache['z2']\n",
    "        y_hat = np.zeros_like(z2)\n",
    "        y_hat[z2.argmax(0),np.arange(len(z2.T))] = 1\n",
    "        n_correct = np.sum(y_hat ==  Y_train)/n2\n",
    "        cost_hist[i] = np.mean(fprop_cache['loss'])\n",
    "        n_corr_hist[i] = n_correct\n",
    "        if verbose:\n",
    "            print('At iteration {}, cost is {} with {}/{} correct'.format(i, cost_hist[i], n_correct, n))\n",
    "        bprop_cache = bprop_vec(fprop_cache)\n",
    "        [W1, b1, W2, b2] = [params[key] - alpha*bprop_cache[key] for key in ('W1', 'b1', 'W2', 'b2')]\n",
    "        params = {'W1': W1, 'b1': b1, 'W2': W2, 'b2': b2}\n",
    "        \n",
    "    neural_net = {'cost_hist': cost_hist, 'n_corr_hist': n_corr_hist, 'params': params}    \n",
    "    return neural_net"
   ]
  },
  {
   "cell_type": "code",
   "execution_count": 10,
   "metadata": {
    "collapsed": true
   },
   "outputs": [],
   "source": [
    "params = initialise_param(m, n, n1 = 4, n2 = 2)\n",
    "neural_net = train_net_vec(X_train, y_train, params, max_iter = 400, alpha = 0.5, verbose = False)"
   ]
  },
  {
   "cell_type": "code",
   "execution_count": 11,
   "metadata": {},
   "outputs": [
    {
     "data": {
      "text/plain": [
       "[<matplotlib.lines.Line2D at 0x11e61a2e8>]"
      ]
     },
     "execution_count": 11,
     "metadata": {},
     "output_type": "execute_result"
    },
    {
     "data": {
      "image/png": "[encoded data removed]",
      "text/plain": [
       "<matplotlib.figure.Figure at 0x11e2eda20>"
      ]
     },
     "metadata": {},
     "output_type": "display_data"
    }
   ],
   "source": [
    "plt.figure(figsize=(12, 4)) \n",
    "plt.subplot(1,2,1)\n",
    "plt.plot(neural_net['cost_hist'])\n",
    "plt.subplot(1,2,2)\n",
    "plt.plot(neural_net['n_corr_hist']/n)\n",
    "plt.plot([0,len(neural_net['n_corr_hist'])], [1,1], 'k--')"
   ]
  },
  {
   "cell_type": "markdown",
   "metadata": {},
   "source": [
    "This scenario is not as good as the logistic regression. Why?"
   ]
  },
  {
   "cell_type": "code",
   "execution_count": 12,
   "metadata": {
    "collapsed": true
   },
   "outputs": [],
   "source": [
    "# filter out only 0, 1 ,2\n",
    "X = mnist.data.astype(float)\n",
    "y = mnist.target.astype(float) \n",
    "ind = (y < 3).nonzero()\n",
    "ind = ind[0]\n",
    "X = X[ind, :]\n",
    "n = np.shape(X)[0]\n",
    "y_vec = np.zeros((n,3))\n",
    "for i in range(n):\n",
    "    y_vec[i,int(y[ind[i]])] = 1\n",
    "\n",
    "num_train = int(n * 0.8)\n",
    "X_train = X[0:num_train, :].T\n",
    "y_train = y_vec[0:num_train].T\n",
    "\n",
    "X_train = X_train/256\n",
    "X_test = X_test/256"
   ]
  },
  {
   "cell_type": "code",
   "execution_count": 13,
   "metadata": {
    "collapsed": true
   },
   "outputs": [],
   "source": [
    "params = initialise_param(m, n, n1 = 4, n2 = len(y_train))\n",
    "neural_net = train_net_vec(X_train, y_train, params, max_iter = 1000, alpha = 1, verbose = False)"
   ]
  },
  {
   "cell_type": "code",
   "execution_count": 14,
   "metadata": {},
   "outputs": [
    {
     "data": {
      "text/plain": [
       "[<matplotlib.lines.Line2D at 0x11eb3d630>]"
      ]
     },
     "execution_count": 14,
     "metadata": {},
     "output_type": "execute_result"
    },
    {
     "data": {
      "image/png": "[encoded data removed]",
      "text/plain": [
       "<matplotlib.figure.Figure at 0x11e668160>"
      ]
     },
     "metadata": {},
     "output_type": "display_data"
    }
   ],
   "source": [
    "plt.figure(figsize=(12, 4)) \n",
    "plt.subplot(1,2,1)\n",
    "plt.plot(neural_net['cost_hist'])\n",
    "plt.subplot(1,2,2)\n",
    "plt.plot(neural_net['n_corr_hist']/n)\n",
    "plt.plot([0,len(neural_net['n_corr_hist'])], [1,1], 'k--')"
   ]
  },
  {
   "cell_type": "markdown",
   "metadata": {
    "collapsed": true
   },
   "source": [
    "Why is the performance not good? Inherent limitation of the number of layer?"
   ]
  },
  {
   "cell_type": "code",
   "execution_count": null,
   "metadata": {
    "collapsed": true
   },
   "outputs": [],
   "source": []
  }
 ],
 "metadata": {
  "kernelspec": {
   "display_name": "Python 3",
   "language": "python",
   "name": "python3"
  },
  "language_info": {
   "codemirror_mode": {
    "name": "ipython",
    "version": 3
   },
   "file_extension": ".py",
   "mimetype": "text/x-python",
   "name": "python",
   "nbconvert_exporter": "python",
   "pygments_lexer": "ipython3",
   "version": "3.6.3"
  }
 },
 "nbformat": 4,
 "nbformat_minor": 2
}
