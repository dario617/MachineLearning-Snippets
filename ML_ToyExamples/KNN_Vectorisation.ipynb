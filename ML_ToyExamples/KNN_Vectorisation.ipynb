{
 "cells": [
  {
   "cell_type": "markdown",
   "metadata": {},
   "source": [
    "# k-nearest neighbours and vectorisation\n",
    "Meichen Lu (meichenlu91@gmail.com) 14th April 2018\n",
    "\n",
    "Code taken from [Vectorization](http://cs229.stanford.edu/syllabus.html). Note that the equation for dists_1 and dists_2 were wrong in the original code."
   ]
  },
  {
   "cell_type": "code",
   "execution_count": 1,
   "metadata": {
    "collapsed": true
   },
   "outputs": [],
   "source": [
    "import numpy as np\n",
    "from sklearn.datasets import fetch_mldata\n",
    "import time\n",
    "import matplotlib.pyplot as plt\n",
    "%matplotlib inline"
   ]
  },
  {
   "cell_type": "code",
   "execution_count": 2,
   "metadata": {
    "collapsed": true
   },
   "outputs": [],
   "source": [
    "mnist = fetch_mldata('MNIST original')\n",
    "\n",
    "X = mnist.data.astype(float)\n",
    "Y = mnist.target.astype(float) \n",
    "\n",
    "mask = np.random.permutation(range(np.shape(X)[0]))"
   ]
  },
  {
   "cell_type": "code",
   "execution_count": 3,
   "metadata": {},
   "outputs": [
    {
     "name": "stdout",
     "output_type": "stream",
     "text": [
      "X_train (10000, 784)\n",
      "Y_train (10000,)\n",
      "X_test (500, 784)\n",
      "Y_test (500,)\n"
     ]
    }
   ],
   "source": [
    "num_train = 10000\n",
    "num_test = 500\n",
    "K = 10\n",
    "X_train = X[mask[:num_train]]\n",
    "Y_train = Y[mask[:num_train]]\n",
    "\n",
    "X_mean = np.mean(X_train,axis = 0)\n",
    "X_train = (X_train-X_mean)/255\n",
    "X_test = X[mask[num_train:num_train+num_test]]\n",
    "X_test = (X_test - X_mean)/255\n",
    "\n",
    "Y_test = Y[mask[num_train:num_train+num_test]]\n",
    "print('X_train',X_train.shape)\n",
    "print('Y_train',Y_train.shape)\n",
    "print('X_test',X_test.shape)\n",
    "print('Y_test',Y_test.shape)"
   ]
  },
  {
   "cell_type": "code",
   "execution_count": 4,
   "metadata": {},
   "outputs": [
    {
     "data": {
      "text/plain": [
       "<matplotlib.image.AxesImage at 0x10c0cf048>"
      ]
     },
     "execution_count": 4,
     "metadata": {},
     "output_type": "execute_result"
    },
    {
     "data": {
      "image/png": "[encoded data removed]",
      "text/plain": [
       "<matplotlib.figure.Figure at 0x108aeaa20>"
      ]
     },
     "metadata": {},
     "output_type": "display_data"
    }
   ],
   "source": [
    "ex_image = (np.reshape(X_train[10,:]*255 + X_mean, (28, 28))).astype(np.uint8)\n",
    "plt.imshow(ex_image, interpolation='nearest')"
   ]
  },
  {
   "cell_type": "code",
   "execution_count": 5,
   "metadata": {},
   "outputs": [
    {
     "name": "stdout",
     "output_type": "stream",
     "text": [
      "Time taken with two for loops: 45.18689179420471s\n"
     ]
    }
   ],
   "source": [
    "# Version 1 (Naive implementation using two for loops)\n",
    "\n",
    "start = time.time()\n",
    "dists_1 = np.zeros((num_test,num_train))\n",
    "for i in range(num_test):\n",
    "    for j in range(num_train):\n",
    "          dists_1[i,j] = np.sqrt(np.sum(np.square(X_test[i,:]-X_train[j,:])))\n",
    "\n",
    "stop = time.time()\n",
    "time_taken = stop-start\n",
    "print('Time taken with two for loops: {}s'.format(time_taken))"
   ]
  },
  {
   "cell_type": "code",
   "execution_count": 6,
   "metadata": {},
   "outputs": [
    {
     "name": "stdout",
     "output_type": "stream",
     "text": [
      "Time taken with just one for loop: 22.42441701889038s\n"
     ]
    }
   ],
   "source": [
    "# Version 2(Somewhat better implementation using one for loop)\n",
    "\n",
    "start = time.time()\n",
    "dists_2 = np.zeros((num_test,num_train))\n",
    "for i in range(num_test):\n",
    "    dists_2[i,:] = np.sqrt(np.sum(np.square(X_test[i,:]-X_train),axis = 1))\n",
    "        \n",
    "stop = time.time()\n",
    "time_taken = stop-start\n",
    "print('Time taken with just one for loop: {}s'.format(time_taken))"
   ]
  },
  {
   "cell_type": "code",
   "execution_count": 7,
   "metadata": {},
   "outputs": [
    {
     "name": "stdout",
     "output_type": "stream",
     "text": [
      "Time taken with no for loops: 0.21134209632873535s\n"
     ]
    }
   ],
   "source": [
    "# Version 3 (Fully vectorized implementation with no for loop)\n",
    "\n",
    "start = time.time()\n",
    "dists_3 = np.zeros((num_test,num_train))\n",
    "A = np.sum(np.square(X_test),axis = 1)\n",
    "B = np.sum(np.square(X_train),axis = 1)\n",
    "C = np.dot(X_test,X_train.T)\n",
    "\n",
    "dists_3 = np.sqrt(A[:,np.newaxis]+B[np.newaxis,:]-2*C)\n",
    "        \n",
    "stop = time.time()\n",
    "time_taken = stop-start\n",
    "print('Time taken with no for loops: {}s'.format(time_taken))"
   ]
  },
  {
   "cell_type": "code",
   "execution_count": 8,
   "metadata": {},
   "outputs": [
    {
     "name": "stdout",
     "output_type": "stream",
     "text": [
      "Prediction accuracy: 94.39999999999999%\n"
     ]
    }
   ],
   "source": [
    "# Prediction accuracy\n",
    "sorted_dist_indices = np.argsort(dists_3,axis = 1)\n",
    "\n",
    "closest_k = Y_train[sorted_dist_indices][:,:K].astype(int)\n",
    "Y_pred = np.zeros_like(Y_test)\n",
    "\n",
    "for i in range(num_test):\n",
    "      Y_pred[i] = np.argmax(np.bincount(closest_k[i,:]))\n",
    "\n",
    "\n",
    "accuracy = (np.where(Y_test-Y_pred == 0)[0].size)/float(num_test)\n",
    "print('Prediction accuracy: {}%'.format(accuracy*100))"
   ]
  },
  {
   "cell_type": "markdown",
   "metadata": {},
   "source": [
    "### Explanation of the fully vectorised implementation\n",
    "1. The distance between 2 vectors $x_1$ and $x_2$ are \n",
    "$$\\Vert x_1 - x_2 \\Vert = \\sqrt{ \\sum_i x_{1,i}^2 +\\sum_i x_{2,i}^2 - 2\\sum_i x_{1,i}x_{2,i}} $$\n",
    "2. A, B, C represents the three terms on the right hand side\n",
    "3. The newaxis expands the dimension, making A a column vector of shape (500,1) and B a row vector of shape (1,10000)\n",
    "4. When subtracting the two vectors, numpy automatically replicate the rows and columns such that the matrices' have the same shape. (In MatLab, one need to use repmat function to repeat the row/column vectors."
   ]
  },
  {
   "cell_type": "code",
   "execution_count": 9,
   "metadata": {},
   "outputs": [
    {
     "data": {
      "text/plain": [
       "(500, 10000)"
      ]
     },
     "execution_count": 9,
     "metadata": {},
     "output_type": "execute_result"
    }
   ],
   "source": [
    "np.shape(C)"
   ]
  }
 ],
 "metadata": {
  "kernelspec": {
   "display_name": "Python 3",
   "language": "python",
   "name": "python3"
  },
  "language_info": {
   "codemirror_mode": {
    "name": "ipython",
    "version": 3
   },
   "file_extension": ".py",
   "mimetype": "text/x-python",
   "name": "python",
   "nbconvert_exporter": "python",
   "pygments_lexer": "ipython3",
   "version": "3.6.3"
  }
 },
 "nbformat": 4,
 "nbformat_minor": 2
}
