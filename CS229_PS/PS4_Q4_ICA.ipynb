{
 "cells": [
  {
   "cell_type": "markdown",
   "metadata": {},
   "source": [
    "# ICA on sound tracks\n",
    "Meichen Lu (meichenlu91@gmail.com) 26th April 2018\n",
    "\n",
    "Source: CS229: PS4Q4\n",
    "\n",
    "Starting code: http://cs229.stanford.edu/ps/ps4/q4/"
   ]
  },
  {
   "cell_type": "code",
   "execution_count": 1,
   "metadata": {
    "collapsed": true
   },
   "outputs": [],
   "source": [
    "import sounddevice as sd\n",
    "import numpy as np\n",
    "import matplotlib.pyplot as plt\n",
    "%matplotlib inline"
   ]
  },
  {
   "cell_type": "code",
   "execution_count": 2,
   "metadata": {
    "collapsed": true
   },
   "outputs": [],
   "source": [
    "Fs = 11025"
   ]
  },
  {
   "cell_type": "code",
   "execution_count": 3,
   "metadata": {
    "collapsed": true
   },
   "outputs": [],
   "source": [
    "def normalize(dat):\n",
    "    return 0.99 * dat / np.max(np.abs(dat))\n",
    "\n",
    "def load_data():\n",
    "    mix = np.loadtxt('cs229_Data/mix.dat')\n",
    "    return mix\n",
    "\n",
    "def play(vec):\n",
    "    sd.play(vec, Fs, blocking=True)"
   ]
  },
  {
   "cell_type": "code",
   "execution_count": 4,
   "metadata": {
    "collapsed": true
   },
   "outputs": [],
   "source": [
    "def unmixer(X):\n",
    "    M, N = X.shape\n",
    "#     W = np.random.rand(N,N)\n",
    "    W = np.eye(N)\n",
    "\n",
    "    anneal = [0.1, 0.1, 0.1, 0.05, 0.05, 0.05, 0.02, 0.02, 0.01, 0.01,\n",
    "              0.005, 0.005, 0.002, 0.002, 0.001, 0.001]\n",
    "    print('Separating tracks ...')\n",
    "    sigmoid = lambda x: 1 / (1 + np.exp(-x))\n",
    "    tol = []\n",
    "    ######## Your code here ##########\n",
    "    for alpha in anneal:\n",
    "        print('working on alpha = {0}'.format(alpha))\n",
    "        for xi in X:\n",
    "            p1 = np.outer(1 - 2 * sigmoid(np.dot(W, xi.T)), xi)\n",
    "            p2 = np.linalg.inv(W.T)\n",
    "            W += alpha * (p1 + p2)\n",
    "        # Vectorisation not working :(\n",
    "#         gradient = (1 - 2*sigmoid(np.dot(W,X.T))).dot(X)/M + np.linalg.inv(W.T)\n",
    "#         W = W + alpha*gradient\n",
    "#         tol.append(np.linalg.norm(W_old - W))\n",
    "#     plt.plot(tol)\n",
    "    ###################################\n",
    "    return W"
   ]
  },
  {
   "cell_type": "code",
   "execution_count": 5,
   "metadata": {
    "collapsed": true
   },
   "outputs": [],
   "source": [
    "def unmix(X, W):\n",
    "    S = np.zeros(X.shape)\n",
    "\n",
    "    ######### Your code here ##########\n",
    "    S = np.dot(W, X.T)\n",
    "    ##################################\n",
    "    return S.T"
   ]
  },
  {
   "cell_type": "code",
   "execution_count": 6,
   "metadata": {},
   "outputs": [
    {
     "name": "stdout",
     "output_type": "stream",
     "text": [
      "Playing mixed track 0\n",
      "Playing mixed track 1\n",
      "Playing mixed track 2\n",
      "Playing mixed track 3\n",
      "Playing mixed track 4\n"
     ]
    }
   ],
   "source": [
    "X = normalize(load_data())\n",
    "\n",
    "for i in range(X.shape[1]):\n",
    "    print('Playing mixed track %d' % i)\n",
    "    play(X[:, i])"
   ]
  },
  {
   "cell_type": "code",
   "execution_count": 7,
   "metadata": {},
   "outputs": [
    {
     "name": "stdout",
     "output_type": "stream",
     "text": [
      "Separating tracks ...\n",
      "working on alpha = 0.1\n",
      "working on alpha = 0.1\n",
      "working on alpha = 0.1\n",
      "working on alpha = 0.05\n",
      "working on alpha = 0.05\n",
      "working on alpha = 0.05\n",
      "working on alpha = 0.02\n",
      "working on alpha = 0.02\n",
      "working on alpha = 0.01\n",
      "working on alpha = 0.01\n",
      "working on alpha = 0.005\n",
      "working on alpha = 0.005\n",
      "working on alpha = 0.002\n",
      "working on alpha = 0.002\n",
      "working on alpha = 0.001\n",
      "working on alpha = 0.001\n"
     ]
    }
   ],
   "source": [
    "W = unmixer(X)"
   ]
  },
  {
   "cell_type": "code",
   "execution_count": 8,
   "metadata": {},
   "outputs": [
    {
     "data": {
      "text/plain": [
       "array([[ 72.15081922,  28.62441682,  25.91040458, -17.2322227 , -21.191357  ],\n",
       "       [ 13.45886116,  31.94398247,  -4.03003982, -24.0095722 ,\n",
       "         11.89906179],\n",
       "       [ 18.89688784,  -7.80435173,  28.71469558,  18.14356811,\n",
       "        -21.17474522],\n",
       "       [ -6.0119837 ,  -4.15743607,  -1.01692289,  13.87321073,\n",
       "         -5.26252289],\n",
       "       [ -8.74061186,  22.55821897,   9.61289023,  14.73637074,\n",
       "         45.28841827]])"
      ]
     },
     "execution_count": 8,
     "metadata": {},
     "output_type": "execute_result"
    }
   ],
   "source": [
    "W"
   ]
  },
  {
   "cell_type": "code",
   "execution_count": null,
   "metadata": {},
   "outputs": [
    {
     "name": "stdout",
     "output_type": "stream",
     "text": [
      "Playing separated track 0\n"
     ]
    }
   ],
   "source": [
    "S = normalize(unmix(X, W))\n",
    "\n",
    "for i in range(S.shape[1]):\n",
    "    print('Playing separated track %d' % i)\n",
    "    play(S[:, i])"
   ]
  },
  {
   "cell_type": "code",
   "execution_count": 68,
   "metadata": {
    "collapsed": true
   },
   "outputs": [],
   "source": [
    "# p1 = np.outer(1 - 2 * sigmoid(np.dot(W, xi.T)), xi)\n",
    "sigmoid = lambda x: 1 / (1 + np.exp(-x))\n",
    "m = 1-2*sigmoid(np.dot(W, xi.T))\n",
    "m2 = np.dot(m.reshape([-1,1]), xi.reshape([1,-1]))"
   ]
  },
  {
   "cell_type": "code",
   "execution_count": 75,
   "metadata": {},
   "outputs": [
    {
     "data": {
      "text/plain": [
       "(5,)"
      ]
     },
     "execution_count": 75,
     "metadata": {},
     "output_type": "execute_result"
    }
   ],
   "source": [
    "np.shape(xi)"
   ]
  },
  {
   "cell_type": "code",
   "execution_count": 71,
   "metadata": {
    "collapsed": true
   },
   "outputs": [],
   "source": []
  },
  {
   "cell_type": "code",
   "execution_count": 73,
   "metadata": {},
   "outputs": [
    {
     "data": {
      "text/plain": [
       "array([[  7.48118394e-04,  -8.11557348e-04,  -7.84384990e-04,\n",
       "         -1.07298105e-04,   7.64956437e-04],\n",
       "       [  1.93122367e-04,  -2.09498761e-04,  -2.02484376e-04,\n",
       "         -2.76983754e-05,   1.97469009e-04],\n",
       "       [  3.77426706e-03,  -4.09431742e-03,  -3.95723252e-03,\n",
       "         -5.41320342e-04,   3.85921521e-03],\n",
       "       [  1.10855290e-03,  -1.20255599e-03,  -1.16229231e-03,\n",
       "         -1.58993051e-04,   1.13350331e-03],\n",
       "       [ -1.28492644e-04,   1.39388565e-04,   1.34721592e-04,\n",
       "          1.84289243e-05,  -1.31384652e-04]])"
      ]
     },
     "execution_count": 73,
     "metadata": {},
     "output_type": "execute_result"
    }
   ],
   "source": []
  },
  {
   "cell_type": "code",
   "execution_count": null,
   "metadata": {
    "collapsed": true
   },
   "outputs": [],
   "source": []
  }
 ],
 "metadata": {
  "kernelspec": {
   "display_name": "Python 3",
   "language": "python",
   "name": "python3"
  },
  "language_info": {
   "codemirror_mode": {
    "name": "ipython",
    "version": 3
   },
   "file_extension": ".py",
   "mimetype": "text/x-python",
   "name": "python",
   "nbconvert_exporter": "python",
   "pygments_lexer": "ipython3",
   "version": "3.6.3"
  }
 },
 "nbformat": 4,
 "nbformat_minor": 2
}
